{
  "nbformat": 4,
  "nbformat_minor": 0,
  "metadata": {
    "colab": {
      "provenance": [],
      "authorship_tag": "ABX9TyPkF0M581d2P6eIeQAxhz9p",
      "include_colab_link": true
    },
    "kernelspec": {
      "name": "python3",
      "display_name": "Python 3"
    },
    "language_info": {
      "name": "python"
    }
  },
  "cells": [
    {
      "cell_type": "markdown",
      "metadata": {
        "id": "view-in-github",
        "colab_type": "text"
      },
      "source": [
        "<a href=\"https://colab.research.google.com/github/alex-kondr/Data_Science_HW_7/blob/main/HW_07.ipynb\" target=\"_parent\"><img src=\"https://colab.research.google.com/assets/colab-badge.svg\" alt=\"Open In Colab\"/></a>"
      ]
    },
    {
      "cell_type": "code",
      "execution_count": 1,
      "metadata": {
        "colab": {
          "base_uri": "https://localhost:8080/"
        },
        "id": "D6xmKa4OdN25",
        "outputId": "c84e4003-43d4-4d09-fd45-a33820de43eb"
      },
      "outputs": [
        {
          "output_type": "stream",
          "name": "stdout",
          "text": [
            "Collecting scikit-surprise\n",
            "  Downloading scikit-surprise-1.1.3.tar.gz (771 kB)\n",
            "\u001b[?25l     \u001b[90m━━━━━━━━━━━━━━━━━━━━━━━━━━━━━━━━━━━━━━━━\u001b[0m \u001b[32m0.0/772.0 kB\u001b[0m \u001b[31m?\u001b[0m eta \u001b[36m-:--:--\u001b[0m\r\u001b[2K     \u001b[91m━━━━━━\u001b[0m\u001b[90m╺\u001b[0m\u001b[90m━━━━━━━━━━━━━━━━━━━━━━━━━━━━━━━━\u001b[0m \u001b[32m122.9/772.0 kB\u001b[0m \u001b[31m3.4 MB/s\u001b[0m eta \u001b[36m0:00:01\u001b[0m\r\u001b[2K     \u001b[91m━━━━━━━━━━━━━━━━━━━━━━━━━━━━━━━━━━━━━\u001b[0m\u001b[91m╸\u001b[0m \u001b[32m768.0/772.0 kB\u001b[0m \u001b[31m12.7 MB/s\u001b[0m eta \u001b[36m0:00:01\u001b[0m\r\u001b[2K     \u001b[90m━━━━━━━━━━━━━━━━━━━━━━━━━━━━━━━━━━━━━━\u001b[0m \u001b[32m772.0/772.0 kB\u001b[0m \u001b[31m10.2 MB/s\u001b[0m eta \u001b[36m0:00:00\u001b[0m\n",
            "\u001b[?25h  Preparing metadata (setup.py) ... \u001b[?25l\u001b[?25hdone\n",
            "Requirement already satisfied: joblib>=1.0.0 in /usr/local/lib/python3.10/dist-packages (from scikit-surprise) (1.3.1)\n",
            "Requirement already satisfied: numpy>=1.17.3 in /usr/local/lib/python3.10/dist-packages (from scikit-surprise) (1.22.4)\n",
            "Requirement already satisfied: scipy>=1.3.2 in /usr/local/lib/python3.10/dist-packages (from scikit-surprise) (1.10.1)\n",
            "Building wheels for collected packages: scikit-surprise\n",
            "  Building wheel for scikit-surprise (setup.py) ... \u001b[?25l\u001b[?25hdone\n",
            "  Created wheel for scikit-surprise: filename=scikit_surprise-1.1.3-cp310-cp310-linux_x86_64.whl size=2811638 sha256=436054f08c5b934533855691f496b790127f70d97a5950ccd9a6003009aadbb3\n",
            "  Stored in directory: /root/.cache/pip/wheels/a5/ca/a8/4e28def53797fdc4363ca4af740db15a9c2f1595ebc51fb445\n",
            "Successfully built scikit-surprise\n",
            "Installing collected packages: scikit-surprise\n",
            "Successfully installed scikit-surprise-1.1.3\n"
          ]
        }
      ],
      "source": [
        "!pip install scikit-surprise"
      ]
    },
    {
      "cell_type": "code",
      "source": [
        "import pandas as pd\n",
        "\n",
        "from surprise import Dataset, SVD, SVDpp, NMF, accuracy\n",
        "from surprise.model_selection import train_test_split\n",
        "from surprise.model_selection import cross_validate"
      ],
      "metadata": {
        "id": "7stCriYcgz_K"
      },
      "execution_count": 2,
      "outputs": []
    },
    {
      "cell_type": "code",
      "source": [
        "data = Dataset.load_builtin(\"ml-100k\")"
      ],
      "metadata": {
        "colab": {
          "base_uri": "https://localhost:8080/"
        },
        "id": "_wWjGYA7hEeO",
        "outputId": "a8a5d56e-2c61-45e7-b5d3-a1e5bb78fd81"
      },
      "execution_count": 3,
      "outputs": [
        {
          "output_type": "stream",
          "name": "stdout",
          "text": [
            "Dataset ml-100k could not be found. Do you want to download it? [Y/n] y\n",
            "Trying to download dataset from https://files.grouplens.org/datasets/movielens/ml-100k.zip...\n",
            "Done! Dataset ml-100k has been saved to /root/.surprise_data/ml-100k\n"
          ]
        }
      ]
    },
    {
      "cell_type": "code",
      "source": [
        "trainset, testset = train_test_split(data, test_size=0.2)"
      ],
      "metadata": {
        "id": "kxSQ-gB-hPU_"
      },
      "execution_count": 4,
      "outputs": []
    },
    {
      "cell_type": "code",
      "source": [
        "algo = SVD()"
      ],
      "metadata": {
        "id": "BS4xN9L8hWXF"
      },
      "execution_count": 5,
      "outputs": []
    },
    {
      "cell_type": "code",
      "source": [
        "cross_validate(algo, data, measures=['RMSE', 'MAE'], cv=5, verbose=True)"
      ],
      "metadata": {
        "colab": {
          "base_uri": "https://localhost:8080/"
        },
        "id": "EFmzXS15cCur",
        "outputId": "d018e792-c654-4cdd-b6aa-555574998ac2"
      },
      "execution_count": 6,
      "outputs": [
        {
          "output_type": "stream",
          "name": "stdout",
          "text": [
            "Evaluating RMSE, MAE of algorithm SVD on 5 split(s).\n",
            "\n",
            "                  Fold 1  Fold 2  Fold 3  Fold 4  Fold 5  Mean    Std     \n",
            "RMSE (testset)    0.9428  0.9344  0.9349  0.9402  0.9335  0.9372  0.0036  \n",
            "MAE (testset)     0.7441  0.7377  0.7375  0.7422  0.7359  0.7395  0.0031  \n",
            "Fit time          0.97    0.90    0.90    1.39    2.43    1.32    0.58    \n",
            "Test time         0.10    0.09    0.18    0.20    0.10    0.13    0.05    \n"
          ]
        },
        {
          "output_type": "execute_result",
          "data": {
            "text/plain": [
              "{'test_rmse': array([0.94276714, 0.9343834 , 0.93494691, 0.94022513, 0.93354755]),\n",
              " 'test_mae': array([0.74413862, 0.73766166, 0.73752013, 0.74223451, 0.73589772]),\n",
              " 'fit_time': (0.9725675582885742,\n",
              "  0.9038283824920654,\n",
              "  0.8997571468353271,\n",
              "  1.3931493759155273,\n",
              "  2.4262850284576416),\n",
              " 'test_time': (0.09943032264709473,\n",
              "  0.09469771385192871,\n",
              "  0.17884302139282227,\n",
              "  0.200439453125,\n",
              "  0.10018444061279297)}"
            ]
          },
          "metadata": {},
          "execution_count": 6
        }
      ]
    },
    {
      "cell_type": "code",
      "source": [
        "algo.fit(trainset)"
      ],
      "metadata": {
        "colab": {
          "base_uri": "https://localhost:8080/"
        },
        "id": "VAGY-bFihqxQ",
        "outputId": "fe6ce481-0613-4b04-db4c-7aaecd398712"
      },
      "execution_count": 7,
      "outputs": [
        {
          "output_type": "execute_result",
          "data": {
            "text/plain": [
              "<surprise.prediction_algorithms.matrix_factorization.SVD at 0x7c0b3e616530>"
            ]
          },
          "metadata": {},
          "execution_count": 7
        }
      ]
    },
    {
      "cell_type": "code",
      "source": [
        "preds = algo.test(testset)"
      ],
      "metadata": {
        "id": "A6nggP6Khtij"
      },
      "execution_count": 8,
      "outputs": []
    },
    {
      "cell_type": "code",
      "source": [
        "accuracy.rmse(preds)"
      ],
      "metadata": {
        "colab": {
          "base_uri": "https://localhost:8080/"
        },
        "id": "U0pioL93it7B",
        "outputId": "726a24f4-fb1c-4889-8a4e-e10cfb714de9"
      },
      "execution_count": 9,
      "outputs": [
        {
          "output_type": "stream",
          "name": "stdout",
          "text": [
            "RMSE: 0.9338\n"
          ]
        },
        {
          "output_type": "execute_result",
          "data": {
            "text/plain": [
              "0.9338310835979109"
            ]
          },
          "metadata": {},
          "execution_count": 9
        }
      ]
    },
    {
      "cell_type": "code",
      "source": [
        "svdpp = SVDpp()"
      ],
      "metadata": {
        "id": "px1g7Gvxkjug"
      },
      "execution_count": 11,
      "outputs": []
    },
    {
      "cell_type": "code",
      "source": [
        "cross_validate(svdpp, data, measures=['RMSE', 'MAE'], cv=5, verbose=True)"
      ],
      "metadata": {
        "colab": {
          "base_uri": "https://localhost:8080/"
        },
        "id": "Rmi0PP411r2R",
        "outputId": "b88fc248-4cbd-468a-dd28-7f9c074265df"
      },
      "execution_count": 21,
      "outputs": [
        {
          "output_type": "stream",
          "name": "stdout",
          "text": [
            "Evaluating RMSE, MAE of algorithm SVDpp on 5 split(s).\n",
            "\n",
            "                  Fold 1  Fold 2  Fold 3  Fold 4  Fold 5  Mean    Std     \n",
            "RMSE (testset)    0.9175  0.9163  0.9207  0.9206  0.9227  0.9196  0.0023  \n",
            "MAE (testset)     0.7183  0.7199  0.7209  0.7226  0.7250  0.7214  0.0023  \n",
            "Fit time          26.51   25.61   25.49   25.20   25.11   25.58   0.50    \n",
            "Test time         4.14    3.59    4.21    3.70    3.91    3.91    0.24    \n"
          ]
        },
        {
          "output_type": "execute_result",
          "data": {
            "text/plain": [
              "{'test_rmse': array([0.91748871, 0.91632661, 0.92070773, 0.92062855, 0.92268281]),\n",
              " 'test_mae': array([0.71832098, 0.71992851, 0.72092274, 0.72264384, 0.72503991]),\n",
              " 'fit_time': (26.505396366119385,\n",
              "  25.61117672920227,\n",
              "  25.492366790771484,\n",
              "  25.196987867355347,\n",
              "  25.108126640319824),\n",
              " 'test_time': (4.143837928771973,\n",
              "  3.5864245891571045,\n",
              "  4.207251310348511,\n",
              "  3.699328899383545,\n",
              "  3.914379596710205)}"
            ]
          },
          "metadata": {},
          "execution_count": 21
        }
      ]
    },
    {
      "cell_type": "code",
      "source": [
        "svdpp.fit(trainset)"
      ],
      "metadata": {
        "colab": {
          "base_uri": "https://localhost:8080/"
        },
        "id": "zpT8asMLks6S",
        "outputId": "954472c4-dc55-43ee-f340-b0303b88bf9c"
      },
      "execution_count": 12,
      "outputs": [
        {
          "output_type": "execute_result",
          "data": {
            "text/plain": [
              "<surprise.prediction_algorithms.matrix_factorization.SVDpp at 0x7c0b74a5b280>"
            ]
          },
          "metadata": {},
          "execution_count": 12
        }
      ]
    },
    {
      "cell_type": "code",
      "source": [
        "preds_svdpp = svdpp.test(testset)"
      ],
      "metadata": {
        "id": "Oxs0VPosk0G4"
      },
      "execution_count": 13,
      "outputs": []
    },
    {
      "cell_type": "code",
      "source": [
        "accuracy.rmse(preds_svdpp)"
      ],
      "metadata": {
        "colab": {
          "base_uri": "https://localhost:8080/"
        },
        "id": "Ji05j2PGk9F3",
        "outputId": "fca97821-9ec9-4495-fe22-2e4a720e6816"
      },
      "execution_count": 20,
      "outputs": [
        {
          "output_type": "stream",
          "name": "stdout",
          "text": [
            "RMSE: 0.9149\n"
          ]
        },
        {
          "output_type": "execute_result",
          "data": {
            "text/plain": [
              "0.9148563491905656"
            ]
          },
          "metadata": {},
          "execution_count": 20
        }
      ]
    },
    {
      "cell_type": "code",
      "source": [
        "nmf = NMF()"
      ],
      "metadata": {
        "id": "Uo4pOF0GlDFG"
      },
      "execution_count": 15,
      "outputs": []
    },
    {
      "cell_type": "code",
      "source": [
        "cross_validate(nmf, data, measures=['RMSE', 'MAE'], cv=5, verbose=True)"
      ],
      "metadata": {
        "colab": {
          "base_uri": "https://localhost:8080/"
        },
        "id": "OYcUwOEH1xgK",
        "outputId": "bbb75f74-8127-4d21-a911-a78f0eb4dcf0"
      },
      "execution_count": 22,
      "outputs": [
        {
          "output_type": "stream",
          "name": "stdout",
          "text": [
            "Evaluating RMSE, MAE of algorithm NMF on 5 split(s).\n",
            "\n",
            "                  Fold 1  Fold 2  Fold 3  Fold 4  Fold 5  Mean    Std     \n",
            "RMSE (testset)    0.9627  0.9546  0.9625  0.9673  0.9625  0.9619  0.0041  \n",
            "MAE (testset)     0.7578  0.7487  0.7566  0.7609  0.7583  0.7564  0.0041  \n",
            "Fit time          1.39    1.52    1.43    1.19    1.68    1.44    0.16    \n",
            "Test time         0.17    0.10    0.08    0.21    0.14    0.14    0.05    \n"
          ]
        },
        {
          "output_type": "execute_result",
          "data": {
            "text/plain": [
              "{'test_rmse': array([0.96265357, 0.95464443, 0.96251528, 0.96728188, 0.96250253]),\n",
              " 'test_mae': array([0.75778423, 0.74874619, 0.75655613, 0.76085521, 0.75830811]),\n",
              " 'fit_time': (1.389763593673706,\n",
              "  1.5159459114074707,\n",
              "  1.428614854812622,\n",
              "  1.1942403316497803,\n",
              "  1.6789896488189697),\n",
              " 'test_time': (0.1740572452545166,\n",
              "  0.10261154174804688,\n",
              "  0.08116531372070312,\n",
              "  0.20842456817626953,\n",
              "  0.1409912109375)}"
            ]
          },
          "metadata": {},
          "execution_count": 22
        }
      ]
    },
    {
      "cell_type": "code",
      "source": [
        "nmf.fit(trainset)"
      ],
      "metadata": {
        "colab": {
          "base_uri": "https://localhost:8080/"
        },
        "id": "bNUmWtoLlIrL",
        "outputId": "3a8bca7f-de5f-4a7e-a563-8a24d1de0aa7"
      },
      "execution_count": 16,
      "outputs": [
        {
          "output_type": "execute_result",
          "data": {
            "text/plain": [
              "<surprise.prediction_algorithms.matrix_factorization.NMF at 0x7c0b74a5a3b0>"
            ]
          },
          "metadata": {},
          "execution_count": 16
        }
      ]
    },
    {
      "cell_type": "code",
      "source": [
        "preds_nmf = nmf.test(testset)"
      ],
      "metadata": {
        "id": "vtpdv3UYlQZh"
      },
      "execution_count": 17,
      "outputs": []
    },
    {
      "cell_type": "code",
      "source": [
        "accuracy.rmse(preds_nmf)"
      ],
      "metadata": {
        "colab": {
          "base_uri": "https://localhost:8080/"
        },
        "id": "5e677Twrla-R",
        "outputId": "ea8db7aa-e69c-4c2b-cdb0-6883f66b6604"
      },
      "execution_count": 19,
      "outputs": [
        {
          "output_type": "stream",
          "name": "stdout",
          "text": [
            "RMSE: 0.9570\n"
          ]
        },
        {
          "output_type": "execute_result",
          "data": {
            "text/plain": [
              "0.9570272429969039"
            ]
          },
          "metadata": {},
          "execution_count": 19
        }
      ]
    },
    {
      "cell_type": "markdown",
      "source": [
        "Найкращий результат дає метод NMF RMSE"
      ],
      "metadata": {
        "id": "uRtEycsG1fEB"
      }
    }
  ]
}